{
 "cells": [
  {
   "cell_type": "code",
   "execution_count": 1,
   "id": "322d7e9b",
   "metadata": {},
   "outputs": [
    {
     "name": "stdout",
     "output_type": "stream",
     "text": [
      "<class 'int'> <class 'str'>\n",
      "<class 'float'> <class 'complex'>\n"
     ]
    }
   ],
   "source": [
    "a=11\n",
    "b='ramesh'\n",
    "c=22.55\n",
    "d=22+4j\n",
    "print(type(a),type(b))\n",
    "print(type(c),type(d))"
   ]
  },
  {
   "cell_type": "code",
   "execution_count": 7,
   "id": "8ab30fe7",
   "metadata": {},
   "outputs": [
    {
     "name": "stdout",
     "output_type": "stream",
     "text": [
      "55\n",
      "<class 'str'>\n",
      "(22+4j) <class 'str'>\n"
     ]
    }
   ],
   "source": [
    "a=55\n",
    "print(str(a))\n",
    "c=str(a)\n",
    "print(type(c))\n",
    "x=str(d)\n",
    "print(x,type(x))"
   ]
  },
  {
   "cell_type": "code",
   "execution_count": 8,
   "id": "4f5dac0c",
   "metadata": {},
   "outputs": [
    {
     "name": "stdout",
     "output_type": "stream",
     "text": [
      "200 200 200 200\n"
     ]
    }
   ],
   "source": [
    "a=b=c=d=200\n",
    "print(a,b,c,d)"
   ]
  },
  {
   "cell_type": "code",
   "execution_count": 9,
   "id": "c1f4a827",
   "metadata": {},
   "outputs": [
    {
     "name": "stdout",
     "output_type": "stream",
     "text": [
      "22\n",
      "44\n",
      "33\n"
     ]
    }
   ],
   "source": [
    "a,b,c=22,44,33\n",
    "print(a)\n",
    "print(b)\n",
    "print(c)"
   ]
  },
  {
   "cell_type": "code",
   "execution_count": 10,
   "id": "1b90fee9",
   "metadata": {},
   "outputs": [
    {
     "name": "stdout",
     "output_type": "stream",
     "text": [
      "<class 'int'> <class 'str'>\n"
     ]
    }
   ],
   "source": [
    "a=int(22.4)\n",
    "b=str(33)\n",
    "print(type(a),type(b))"
   ]
  },
  {
   "cell_type": "code",
   "execution_count": 11,
   "id": "117c7662",
   "metadata": {},
   "outputs": [],
   "source": [
    "a=22\n",
    "del a"
   ]
  },
  {
   "cell_type": "code",
   "execution_count": 12,
   "id": "51dbe777",
   "metadata": {},
   "outputs": [
    {
     "name": "stdout",
     "output_type": "stream",
     "text": [
      "22 33\n"
     ]
    }
   ],
   "source": [
    "a=33\n",
    "b=22\n",
    "b,a=a,b\n",
    "print(a,b)"
   ]
  },
  {
   "cell_type": "code",
   "execution_count": 14,
   "id": "ae7f7887",
   "metadata": {},
   "outputs": [
    {
     "name": "stdout",
     "output_type": "stream",
     "text": [
      "4\n",
      "3\n"
     ]
    }
   ],
   "source": [
    "names=['ramesh','arulkumar','dinesh','varun']\n",
    "print(len(names))\n",
    "print(names.index('varun'))"
   ]
  },
  {
   "cell_type": "code",
   "execution_count": null,
   "id": "7c4e0412",
   "metadata": {},
   "outputs": [],
   "source": []
  }
 ],
 "metadata": {
  "kernelspec": {
   "display_name": "base",
   "language": "python",
   "name": "python3"
  },
  "language_info": {
   "codemirror_mode": {
    "name": "ipython",
    "version": 3
   },
   "file_extension": ".py",
   "mimetype": "text/x-python",
   "name": "python",
   "nbconvert_exporter": "python",
   "pygments_lexer": "ipython3",
   "version": "3.12.7"
  }
 },
 "nbformat": 4,
 "nbformat_minor": 5
}
