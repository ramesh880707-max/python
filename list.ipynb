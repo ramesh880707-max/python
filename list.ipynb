{
 "cells": [
  {
   "cell_type": "code",
   "execution_count": 1,
   "id": "65500772",
   "metadata": {},
   "outputs": [
    {
     "name": "stdout",
     "output_type": "stream",
     "text": [
      "6\n"
     ]
    }
   ],
   "source": [
    "# list is a build in data structure \n",
    "# store collection of item in a single variable\n",
    "# list ordered index started in 0\n",
    "# list is mutable you can change,add,remove, delete\n",
    "# allow duplicate values\n",
    "lidt1=[1,2,3,4,5,6]\n",
    "print(len(lidt1))"
   ]
  },
  {
   "cell_type": "code",
   "execution_count": 2,
   "id": "c82192c5",
   "metadata": {},
   "outputs": [
    {
     "name": "stdout",
     "output_type": "stream",
     "text": [
      "6\n",
      "1\n",
      "<class 'list'>\n"
     ]
    }
   ],
   "source": [
    "list1=[1,2,3,4,5,6]\n",
    "print(len(list1))\n",
    "print(list1.count(5))\n",
    "print(type(list1))"
   ]
  },
  {
   "cell_type": "code",
   "execution_count": 5,
   "id": "b1846bee",
   "metadata": {},
   "outputs": [
    {
     "name": "stdout",
     "output_type": "stream",
     "text": [
      "[2, 3, 4, 5, 6, 7, 8, 9]\n",
      "[1, 2, 3, 4, 5, 6, 7, 8]\n",
      "[3, 4]\n",
      "2\n"
     ]
    }
   ],
   "source": [
    "lists=[1,2,3,4,5,6,7,8,9]\n",
    "print(lists[1:])\n",
    "print(lists[:-1])\n",
    "print(lists[2:4])\n",
    "print(lists[1])"
   ]
  },
  {
   "cell_type": "code",
   "execution_count": 6,
   "id": "1dfdc337",
   "metadata": {},
   "outputs": [
    {
     "name": "stdout",
     "output_type": "stream",
     "text": [
      "[1, 2, 3, 4, 5, 6, 7, 8, [11, 22, 33]]\n"
     ]
    }
   ],
   "source": [
    "lists=[1,2,3,4,5,6,7,8,9]\n",
    "lists[-1]=[11,22,33]\n",
    "print(lists)"
   ]
  },
  {
   "cell_type": "code",
   "execution_count": 8,
   "id": "8569856a",
   "metadata": {},
   "outputs": [
    {
     "name": "stdout",
     "output_type": "stream",
     "text": [
      "[0, 11, 1, 2, 3, 4, 5, 6, 7, 8, 9, 10, 11, 0.1, 2.1]\n"
     ]
    }
   ],
   "source": [
    "# add list items\n",
    "lists=[1,2,3,4,5,6,7,8,9]\n",
    "lists.append(10)\n",
    "lists.append(11)\n",
    "lists.insert(0,0)\n",
    "lists.insert(1,11)\n",
    "lista=[0.1,2.1]\n",
    "lists.extend(lista)\n",
    "print(lists)"
   ]
  },
  {
   "cell_type": "code",
   "execution_count": 9,
   "id": "1f5ca1c0",
   "metadata": {},
   "outputs": [
    {
     "name": "stdout",
     "output_type": "stream",
     "text": [
      "[1, 2]\n"
     ]
    }
   ],
   "source": [
    "a=[]\n",
    "a.append(1)\n",
    "a.append(2)\n",
    "print(a)"
   ]
  },
  {
   "cell_type": "code",
   "execution_count": 10,
   "id": "e1881efc",
   "metadata": {},
   "outputs": [
    {
     "name": "stdout",
     "output_type": "stream",
     "text": [
      "[23, 22]\n"
     ]
    }
   ],
   "source": [
    "a=[]\n",
    "a.insert(0,22)\n",
    "a.insert(0,23)\n",
    "print(a)"
   ]
  },
  {
   "cell_type": "code",
   "execution_count": 13,
   "id": "d79037c4",
   "metadata": {},
   "outputs": [
    {
     "name": "stdout",
     "output_type": "stream",
     "text": [
      "[]\n"
     ]
    }
   ],
   "source": [
    "a=[1,2,3,4,5]\n",
    "a.remove(5)\n",
    "a.remove(4)\n",
    "a.pop()\n",
    "a.pop(0)\n",
    "a.clear()\n",
    "print(a)"
   ]
  },
  {
   "cell_type": "code",
   "execution_count": 16,
   "id": "57f5c076",
   "metadata": {},
   "outputs": [
    {
     "name": "stdout",
     "output_type": "stream",
     "text": [
      "[1, 2, 3, 4, 5, 6, 7, 8]\n"
     ]
    }
   ],
   "source": [
    "alist=[1,2,3,4,5,6,7,8]\n",
    "alist.sort()\n",
    "print(alist)"
   ]
  },
  {
   "cell_type": "code",
   "execution_count": 17,
   "id": "ab60b47f",
   "metadata": {},
   "outputs": [
    {
     "name": "stdout",
     "output_type": "stream",
     "text": [
      "[8, 7, 6, 5, 4, 3, 2, 1]\n"
     ]
    }
   ],
   "source": [
    "alist=[1,2,3,4,5,6,7,8]\n",
    "alist.sort(reverse=True)\n",
    "print(alist)"
   ]
  },
  {
   "cell_type": "code",
   "execution_count": 19,
   "id": "68929059",
   "metadata": {},
   "outputs": [
    {
     "name": "stdout",
     "output_type": "stream",
     "text": [
      "1934013164800\n",
      "1934013162112\n"
     ]
    }
   ],
   "source": [
    "alist=[1,2,3,4,5,6,7,8]\n",
    "c=alist.copy()\n",
    "print(id(c))\n",
    "print(id(alist))"
   ]
  },
  {
   "cell_type": "code",
   "execution_count": 21,
   "id": "827d69ff",
   "metadata": {},
   "outputs": [
    {
     "name": "stdout",
     "output_type": "stream",
     "text": [
      "1934013069824\n",
      "1934012637312\n"
     ]
    }
   ],
   "source": [
    "alist=[1,2,3,4,5,6,7,8]\n",
    "blist=alist[:]\n",
    "print(id(blist))\n",
    "c=list(alist)\n",
    "print(id(c))"
   ]
  },
  {
   "cell_type": "code",
   "execution_count": null,
   "id": "0f75e882",
   "metadata": {},
   "outputs": [],
   "source": []
  }
 ],
 "metadata": {
  "kernelspec": {
   "display_name": "base",
   "language": "python",
   "name": "python3"
  },
  "language_info": {
   "codemirror_mode": {
    "name": "ipython",
    "version": 3
   },
   "file_extension": ".py",
   "mimetype": "text/x-python",
   "name": "python",
   "nbconvert_exporter": "python",
   "pygments_lexer": "ipython3",
   "version": "3.12.7"
  }
 },
 "nbformat": 4,
 "nbformat_minor": 5
}
